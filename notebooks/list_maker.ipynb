{
 "cells": [
  {
   "cell_type": "code",
   "execution_count": 1,
   "metadata": {},
   "outputs": [],
   "source": [
    "import pandas as pd\n",
    "import pprint\n",
    "import os"
   ]
  },
  {
   "cell_type": "code",
   "execution_count": 2,
   "metadata": {},
   "outputs": [],
   "source": [
    "annotations = pd.read_csv(\"/Users/lauragraesser/Documents/NYU_Courses/CV/datasets/celeba/list_attr_celeba_copy.txt\", \n",
    "                          sep=('\\s+'),\n",
    "                          header=0) \n",
    "data_split = pd.read_csv(\"/Users/lauragraesser/Documents/NYU_Courses/CV/datasets/celeba/eval/list_eval_partition.txt\", \n",
    "                          sep=('\\s+'),\n",
    "                          header=None,\n",
    "                         names=['images', 'dataset']) "
   ]
  },
  {
   "cell_type": "code",
   "execution_count": 3,
   "metadata": {},
   "outputs": [],
   "source": [
    "combined_data = pd.merge(annotations, data_split, left_index=True, right_index=True, how='outer')\n",
    "cols = combined_data.columns.get_values()"
   ]
  },
  {
   "cell_type": "code",
   "execution_count": 4,
   "metadata": {},
   "outputs": [
    {
     "name": "stdout",
     "output_type": "stream",
     "text": [
      "array(['Images', '5_o_Clock_Shadow', 'Arched_Eyebrows', 'Attractive',\n",
      "       'Bags_Under_Eyes', 'Bald', 'Bangs', 'Big_Lips', 'Big_Nose',\n",
      "       'Black_Hair', 'Blond_Hair', 'Blurry', 'Brown_Hair',\n",
      "       'Bushy_Eyebrows', 'Chubby', 'Double_Chin', 'Eyeglasses', 'Goatee',\n",
      "       'Gray_Hair', 'Heavy_Makeup', 'High_Cheekbones', 'Male',\n",
      "       'Mouth_Slightly_Open', 'Mustache', 'Narrow_Eyes', 'No_Beard',\n",
      "       'Oval_Face', 'Pale_Skin', 'Pointy_Nose', 'Receding_Hairline',\n",
      "       'Rosy_Cheeks', 'Sideburns', 'Smiling', 'Straight_Hair', 'Wavy_Hair',\n",
      "       'Wearing_Earrings', 'Wearing_Hat', 'Wearing_Lipstick',\n",
      "       'Wearing_Necklace', 'Wearing_Necktie', 'Young', 'images', 'dataset'], dtype=object)\n"
     ]
    }
   ],
   "source": [
    "pprint.pprint(cols)"
   ]
  },
  {
   "cell_type": "code",
   "execution_count": 5,
   "metadata": {},
   "outputs": [
    {
     "name": "stdout",
     "output_type": "stream",
     "text": [
      "Num datapoints for each characteristic\n",
      "Images: 0\n",
      "5_o_Clock_Shadow: 22516\n",
      "Arched_Eyebrows: 54090\n",
      "Attractive: 103833\n",
      "Bags_Under_Eyes: 41446\n",
      "Bald: 4547\n",
      "Bangs: 30709\n",
      "Big_Lips: 48785\n",
      "Big_Nose: 47516\n",
      "Black_Hair: 48472\n",
      "Blond_Hair: 29983\n",
      "Blurry: 10312\n",
      "Brown_Hair: 41572\n",
      "Bushy_Eyebrows: 28803\n",
      "Chubby: 11663\n",
      "Double_Chin: 9459\n",
      "Eyeglasses: 13193\n",
      "Goatee: 12716\n",
      "Gray_Hair: 8499\n",
      "Heavy_Makeup: 78390\n",
      "High_Cheekbones: 92189\n",
      "Male: 84434\n",
      "Mouth_Slightly_Open: 97942\n",
      "Mustache: 8417\n",
      "Narrow_Eyes: 23329\n",
      "No_Beard: 169158\n",
      "Oval_Face: 57567\n",
      "Pale_Skin: 8701\n",
      "Pointy_Nose: 56210\n",
      "Receding_Hairline: 16163\n",
      "Rosy_Cheeks: 13315\n",
      "Sideburns: 11449\n",
      "Smiling: 97669\n",
      "Straight_Hair: 42222\n",
      "Wavy_Hair: 64744\n",
      "Wearing_Earrings: 38276\n",
      "Wearing_Hat: 9818\n",
      "Wearing_Lipstick: 95715\n",
      "Wearing_Necklace: 24913\n",
      "Wearing_Necktie: 14732\n",
      "Young: 156734\n",
      "images: 0\n",
      "dataset: 19867\n"
     ]
    }
   ],
   "source": [
    "# Datastats\n",
    "print(\"Num datapoints for each characteristic\")\n",
    "for col in cols:\n",
    "    num = len(combined_data[(combined_data[col]== 1)].index)\n",
    "    print(\"{}: {}\".format(col, num))"
   ]
  },
  {
   "cell_type": "code",
   "execution_count": 10,
   "metadata": {},
   "outputs": [],
   "source": [
    "# Make lists\n",
    "blond_no_eye = combined_data[(combined_data['Eyeglasses']== -1) & \n",
    "                             (combined_data['Blond_Hair']== 1) & \n",
    "                             (combined_data['dataset'] == 0)]\n",
    "brunette_no_eye = combined_data[(combined_data['Eyeglasses']== -1) & \n",
    "                             (combined_data['Brown_Hair']== 1) & \n",
    "                             (combined_data['dataset'] == 0)]\n",
    "eye_noblond_no_brunette = combined_data[(combined_data['Eyeglasses']== 1) & \n",
    "                             (combined_data['Blond_Hair']== -1) & \n",
    "                             (combined_data['Brown_Hair']== -1) & \n",
    "                             (combined_data['dataset'] == 0)]\n",
    "noeye_noblond_no_brunette = combined_data[(combined_data['Eyeglasses']== -1) & \n",
    "                             (combined_data['Blond_Hair']== -1) & \n",
    "                             (combined_data['Brown_Hair']== -1) & \n",
    "                             (combined_data['dataset'] == 0)]"
   ]
  },
  {
   "cell_type": "code",
   "execution_count": 11,
   "metadata": {},
   "outputs": [
    {
     "name": "stdout",
     "output_type": "stream",
     "text": [
      "23864\n",
      "32278\n",
      "9216\n",
      "97080\n"
     ]
    }
   ],
   "source": [
    "print(len(blond_no_eye.index))\n",
    "print(len(brunette_no_eye.index))\n",
    "print(len(eye_noblond_no_brunette.index))\n",
    "print(len(noeye_noblond_no_brunette.index))"
   ]
  },
  {
   "cell_type": "code",
   "execution_count": 6,
   "metadata": {},
   "outputs": [],
   "source": [
    "def writefile(path, filename, df, num_egs):\n",
    "    with open(os.path.join(path, filename), 'w') as f:\n",
    "        for i, (idx, row) in enumerate(df.iterrows()):\n",
    "            line = str(row['Images']) + \" 0\\n\"\n",
    "            f.write(line)\n",
    "            if i >= num_egs:\n",
    "                break\n",
    "    print(\"Data written to {}/{}\".format(path, filename))"
   ]
  },
  {
   "cell_type": "code",
   "execution_count": 7,
   "metadata": {},
   "outputs": [],
   "source": [
    "# Write out lists of first 9200 examples\n",
    "path = '/Users/lauragraesser/Documents/NYU_Courses/CV/im2im2im/nvidia_original/datasets/celeba/lists'\n",
    "# filename = 'blond_no_eye.txt'\n",
    "# writefile(path, filename, blond_no_eye, 9200)\n",
    "# filename = 'brunette_no_eye.txt'\n",
    "# writefile(path, filename, brunette_no_eye, 9200)\n",
    "# filename = 'eye_noblond_no_brunette.txt'\n",
    "# writefile(path, filename, eye_noblond_no_brunette, 9200)\n",
    "# filename = 'noeye_noblond_no_brunette.txt'\n",
    "# writefile(path, filename, noeye_noblond_no_brunette, 9200)"
   ]
  },
  {
   "cell_type": "code",
   "execution_count": 8,
   "metadata": {},
   "outputs": [],
   "source": [
    "smiling_noblond_no_brunette = combined_data[(combined_data['Smiling']== 1) & \n",
    "                             (combined_data['Blond_Hair']== -1) & \n",
    "                             (combined_data['Brown_Hair']== -1) & \n",
    "                             (combined_data['dataset'] == 0)]\n",
    "nosmiling_noblond_no_brunette = combined_data[(combined_data['Smiling']== -1) & \n",
    "                             (combined_data['Blond_Hair']== -1) & \n",
    "                             (combined_data['Brown_Hair']== -1) & \n",
    "                             (combined_data['dataset'] == 0)]\n",
    "male = combined_data[(combined_data['Male']== 1) &  \n",
    "                             (combined_data['dataset'] == 0)]\n",
    "female = combined_data[(combined_data['Male']== -1) &  \n",
    "                             (combined_data['dataset'] == 0)]"
   ]
  },
  {
   "cell_type": "code",
   "execution_count": 9,
   "metadata": {},
   "outputs": [
    {
     "name": "stdout",
     "output_type": "stream",
     "text": [
      "47793\n",
      "58503\n",
      "68261\n",
      "94509\n"
     ]
    }
   ],
   "source": [
    "print(len(smiling_noblond_no_brunette.index))\n",
    "print(len(nosmiling_noblond_no_brunette.index))\n",
    "print(len(male.index))\n",
    "print(len(female.index))"
   ]
  },
  {
   "cell_type": "code",
   "execution_count": 12,
   "metadata": {},
   "outputs": [
    {
     "name": "stdout",
     "output_type": "stream",
     "text": [
      "Data written to /Users/lauragraesser/Documents/NYU_Courses/CV/im2im2im/nvidia_original/datasets/celeba/lists/blond_no_eye_20k.txt\n",
      "Data written to /Users/lauragraesser/Documents/NYU_Courses/CV/im2im2im/nvidia_original/datasets/celeba/lists/brunette_no_eye_20k.txt\n"
     ]
    }
   ],
   "source": [
    "filename = 'blond_no_eye_20k.txt'\n",
    "writefile(path, filename, blond_no_eye, 20000)\n",
    "filename = 'brunette_no_eye_20k.txt'\n",
    "writefile(path, filename, brunette_no_eye, 20000)"
   ]
  },
  {
   "cell_type": "code",
   "execution_count": 13,
   "metadata": {},
   "outputs": [
    {
     "name": "stdout",
     "output_type": "stream",
     "text": [
      "Data written to /Users/lauragraesser/Documents/NYU_Courses/CV/im2im2im/nvidia_original/datasets/celeba/lists/smiling_noblond_no_brunette_20k.txt\n",
      "Data written to /Users/lauragraesser/Documents/NYU_Courses/CV/im2im2im/nvidia_original/datasets/celeba/lists/nosmiling_noblond_no_brunette_20k.txt\n"
     ]
    }
   ],
   "source": [
    "filename = 'smiling_noblond_no_brunette_20k.txt'\n",
    "writefile(path, filename, smiling_noblond_no_brunette, 20000)\n",
    "filename = 'nosmiling_noblond_no_brunette_20k.txt'\n",
    "writefile(path, filename, nosmiling_noblond_no_brunette, 20000)"
   ]
  },
  {
   "cell_type": "code",
   "execution_count": 14,
   "metadata": {},
   "outputs": [
    {
     "name": "stdout",
     "output_type": "stream",
     "text": [
      "Data written to /Users/lauragraesser/Documents/NYU_Courses/CV/im2im2im/nvidia_original/datasets/celeba/lists/male_20k.txt\n",
      "Data written to /Users/lauragraesser/Documents/NYU_Courses/CV/im2im2im/nvidia_original/datasets/celeba/lists/female_20k.txt\n"
     ]
    }
   ],
   "source": [
    "filename = 'male_20k.txt'\n",
    "writefile(path, filename, male, 20000)\n",
    "filename = 'female_20k.txt'\n",
    "writefile(path, filename, female, 20000)"
   ]
  },
  {
   "cell_type": "code",
   "execution_count": null,
   "metadata": {},
   "outputs": [],
   "source": []
  }
 ],
 "metadata": {
  "kernelspec": {
   "display_name": "Python 3",
   "language": "python",
   "name": "python3"
  },
  "language_info": {
   "codemirror_mode": {
    "name": "ipython",
    "version": 3
   },
   "file_extension": ".py",
   "mimetype": "text/x-python",
   "name": "python",
   "nbconvert_exporter": "python",
   "pygments_lexer": "ipython3",
   "version": "3.6.2"
  }
 },
 "nbformat": 4,
 "nbformat_minor": 2
}
