{
 "cells": [
  {
   "cell_type": "code",
   "execution_count": 1,
   "metadata": {
    "collapsed": true
   },
   "outputs": [],
   "source": [
    "import pandas as pd\n",
    "import pprint\n",
    "import os"
   ]
  },
  {
   "cell_type": "code",
   "execution_count": 2,
   "metadata": {
    "collapsed": true
   },
   "outputs": [],
   "source": [
    "annotations = pd.read_csv(\"/Users/jedi/courses/im2im2im/dataset/celeba/list_attr_celeba_copy.txt\", \n",
    "                          sep=('\\s+'),\n",
    "                          header=0) \n",
    "data_split = pd.read_csv(\"/Users/jedi/courses/im2im2im/dataset/celeba/list_eval_partition.txt\", \n",
    "                          sep=('\\s+'),\n",
    "                          header=None,\n",
    "                         names=['images', 'dataset']) "
   ]
  },
  {
   "cell_type": "code",
   "execution_count": 3,
   "metadata": {
    "collapsed": true
   },
   "outputs": [],
   "source": [
    "combined_data = pd.merge(annotations, data_split, left_index=True, right_index=True, how='outer')\n",
    "cols = combined_data.columns.get_values()"
   ]
  },
  {
   "cell_type": "code",
   "execution_count": 7,
   "metadata": {},
   "outputs": [
    {
     "name": "stdout",
     "output_type": "stream",
     "text": [
      "array(['Images', '5_o_Clock_Shadow', 'Arched_Eyebrows', 'Attractive',\n",
      "       'Bags_Under_Eyes', 'Bald', 'Bangs', 'Big_Lips', 'Big_Nose',\n",
      "       'Black_Hair', 'Blond_Hair', 'Blurry', 'Brown_Hair',\n",
      "       'Bushy_Eyebrows', 'Chubby', 'Double_Chin', 'Eyeglasses', 'Goatee',\n",
      "       'Gray_Hair', 'Heavy_Makeup', 'High_Cheekbones', 'Male',\n",
      "       'Mouth_Slightly_Open', 'Mustache', 'Narrow_Eyes', 'No_Beard',\n",
      "       'Oval_Face', 'Pale_Skin', 'Pointy_Nose', 'Receding_Hairline',\n",
      "       'Rosy_Cheeks', 'Sideburns', 'Smiling', 'Straight_Hair', 'Wavy_Hair',\n",
      "       'Wearing_Earrings', 'Wearing_Hat', 'Wearing_Lipstick',\n",
      "       'Wearing_Necklace', 'Wearing_Necktie', 'Young', 'images', 'dataset'], dtype=object)\n"
     ]
    }
   ],
   "source": [
    "pprint.pprint(cols)"
   ]
  },
  {
   "cell_type": "code",
   "execution_count": 4,
   "metadata": {},
   "outputs": [
    {
     "name": "stdout",
     "output_type": "stream",
     "text": [
      "Num datapoints for each characteristic\n",
      "['No_Beard', 169158]\n",
      "['Young', 156734]\n",
      "['Attractive', 103833]\n",
      "['Mouth_Slightly_Open', 97942]\n",
      "['Smiling', 97669]\n",
      "['Wearing_Lipstick', 95715]\n",
      "['High_Cheekbones', 92189]\n",
      "['Male', 84434]\n",
      "['Heavy_Makeup', 78390]\n",
      "['Wavy_Hair', 64744]\n",
      "['Oval_Face', 57567]\n",
      "['Pointy_Nose', 56210]\n",
      "['Arched_Eyebrows', 54090]\n",
      "['Big_Lips', 48785]\n",
      "['Black_Hair', 48472]\n",
      "['Big_Nose', 47516]\n",
      "['Straight_Hair', 42222]\n",
      "['Brown_Hair', 41572]\n",
      "['Bags_Under_Eyes', 41446]\n",
      "['Wearing_Earrings', 38276]\n",
      "['Bangs', 30709]\n",
      "['Blond_Hair', 29983]\n",
      "['Bushy_Eyebrows', 28803]\n",
      "['Wearing_Necklace', 24913]\n",
      "['Narrow_Eyes', 23329]\n",
      "['5_o_Clock_Shadow', 22516]\n",
      "['dataset', 19867]\n",
      "['Receding_Hairline', 16163]\n",
      "['Wearing_Necktie', 14732]\n",
      "['Rosy_Cheeks', 13315]\n",
      "['Eyeglasses', 13193]\n",
      "['Goatee', 12716]\n",
      "['Chubby', 11663]\n",
      "['Sideburns', 11449]\n",
      "['Blurry', 10312]\n",
      "['Wearing_Hat', 9818]\n",
      "['Double_Chin', 9459]\n",
      "['Pale_Skin', 8701]\n",
      "['Gray_Hair', 8499]\n",
      "['Mustache', 8417]\n",
      "['Bald', 4547]\n",
      "['Images', 0]\n",
      "['images', 0]\n"
     ]
    }
   ],
   "source": [
    "# Datastats\n",
    "print(\"Num datapoints for each characteristic\")\n",
    "attr_fd = []\n",
    "for col in cols:\n",
    "    attr_fd.append([col, len(combined_data[(combined_data[col]== 1)].index)])\n",
    "    #print(\"{}: {}\".format(col, num))\n",
    "for i in sorted(attr_fd, key=lambda x:x[1], reverse=True):\n",
    "    print(i)"
   ]
  },
  {
   "cell_type": "code",
   "execution_count": 10,
   "metadata": {
    "collapsed": true
   },
   "outputs": [],
   "source": [
    "# Make lists\n",
    "blond_no_eye = combined_data[(combined_data['Eyeglasses']== -1) & \n",
    "                             (combined_data['Blond_Hair']== 1) & \n",
    "                             (combined_data['dataset'] == 0)]\n",
    "brunette_no_eye = combined_data[(combined_data['Eyeglasses']== -1) & \n",
    "                             (combined_data['Brown_Hair']== 1) & \n",
    "                             (combined_data['dataset'] == 0)]\n",
    "eye_noblond_no_brunette = combined_data[(combined_data['Eyeglasses']== 1) & \n",
    "                             (combined_data['Blond_Hair']== -1) & \n",
    "                             (combined_data['Brown_Hair']== -1) & \n",
    "                             (combined_data['dataset'] == 0)]\n",
    "noeye_noblond_no_brunette = combined_data[(combined_data['Eyeglasses']== -1) & \n",
    "                             (combined_data['Blond_Hair']== -1) & \n",
    "                             (combined_data['Brown_Hair']== -1) & \n",
    "                             (combined_data['dataset'] == 0)]"
   ]
  },
  {
   "cell_type": "code",
   "execution_count": 8,
   "metadata": {},
   "outputs": [
    {
     "name": "stdout",
     "output_type": "stream",
     "text": [
      "10337\n",
      "152433\n"
     ]
    }
   ],
   "source": [
    "print(len(goatee.index))\n",
    "print(len(no_goatee.index))\n",
    "# print(len(gray.index))\n",
    "# print(len(bald.index))"
   ]
  },
  {
   "cell_type": "code",
   "execution_count": 4,
   "metadata": {
    "collapsed": true
   },
   "outputs": [],
   "source": [
    "# # Make lists\n",
    "# eye_no_smiling = combined_data[(combined_data['Eyeglasses']== 1) & \n",
    "#                              (combined_data['Smiling']== -1) & \n",
    "#                              (combined_data['dataset'] == 0)]\n",
    "# no_eye_no_smiling = combined_data[(combined_data['Eyeglasses']== -1) & \n",
    "#                              (combined_data['Smiling']== -1) & \n",
    "#                              (combined_data['dataset'] == 0)]\n",
    "# no_eye_smiling = combined_data[(combined_data['Smiling']== 1) &\n",
    "#                             (combined_data['Eyeglasses']== -1) & \n",
    "#                              (combined_data['dataset'] == 0)]\n",
    "# no_smiling = combined_data[(combined_data['Smiling']== -1) & \n",
    "#                             (combined_data['Eyeglasses']== -1) &                            \n",
    "#                              (combined_data['dataset'] == 0)]\n",
    "\n",
    "# blond = combined_data[(combined_data['Blond_Hair']== 1) & \n",
    "#                              (combined_data['dataset'] == 0)]\n",
    "# black = combined_data[(combined_data['Black_Hair']== 1) & \n",
    "#                              (combined_data['dataset'] == 0)]\n",
    "# gray = combined_data[(combined_data['Gray_Hair']== 1) &\n",
    "#                              (combined_data['dataset'] == 0)]\n",
    "# bald = combined_data[(combined_data['Bald']== 1) & \n",
    "#                              (combined_data['dataset'] == 0)]\n",
    "# goatee = combined_data[(combined_data['Chubby']== 1) &\n",
    "#                              (combined_data['dataset'] == 0)]\n",
    "# no_goatee = combined_data[(combined_data['Wearing_Lipstick']== -1) & \n",
    "#                              (combined_data['dataset'] == 0)]\n",
    "\n",
    "class0 = combined_data[(combined_data['Smiling']== -1) & \n",
    "                             (combined_data['Blond_Hair']== 1) & \n",
    "                             (combined_data['dataset'] == 0)]\n",
    "class1 = combined_data[(combined_data['Smiling']== -1) & \n",
    "                             (combined_data['Brown_Hair']== 1) & \n",
    "                             (combined_data['dataset'] == 0)]\n",
    "class2 = combined_data[(combined_data['Smiling']== 1) & \n",
    "                             (combined_data['Blond_Hair']== -1) &\n",
    "                             (combined_data['Brown_Hair']== -1) &                                         \n",
    "                             (combined_data['dataset'] == 0)]\n",
    "class3 = combined_data[(combined_data['Smiling']== 1) & \n",
    "                             (combined_data['Blond_Hair']== -1) &\n",
    "                             (combined_data['Brown_Hair']== 1) &                                         \n",
    "                             (combined_data['dataset'] == 0)]\n",
    "\n",
    "class0 = combined_data[(combined_data['Smiling']== -1) & \n",
    "                             (combined_data['Eyeglasses']== 1) & \n",
    "                             (combined_data['dataset'] == 0)]\n",
    "class1 = combined_data[(combined_data['Smiling']== -1) & \n",
    "                             (combined_data['Eyeglasses']== -1) & \n",
    "                             (combined_data['dataset'] == 0)]\n",
    "class2 = combined_data[(combined_data['Smiling']== 1) & \n",
    "                             (combined_data['Eyeglasses']== -1) &\n",
    "                             (combined_data['dataset'] == 0)]\n"
   ]
  },
  {
   "cell_type": "code",
   "execution_count": 5,
   "metadata": {},
   "outputs": [
    {
     "name": "stdout",
     "output_type": "stream",
     "text": [
      "6275\n",
      "78415\n",
      "73834\n",
      "16044\n"
     ]
    }
   ],
   "source": [
    "print(len(class0.index))\n",
    "print(len(class1.index))\n",
    "print(len(class2.index))\n",
    "print(len(class3.index))\n"
   ]
  },
  {
   "cell_type": "code",
   "execution_count": 6,
   "metadata": {
    "collapsed": true
   },
   "outputs": [],
   "source": [
    "alldata = []\n",
    "for i in class0.values:\n",
    "    alldata.append([i[0], 0])\n",
    "for i in class1.values:\n",
    "    alldata.append([i[0], 1])\n",
    "for i in class2.values:\n",
    "    alldata.append([i[0], 2])\n",
    "# for i in class3.values:\n",
    "#     alldata.append([i[0], 3])\n",
    "        \n",
    "import random        \n",
    "random.shuffle(alldata)\n",
    "part = int(len(alldata)*0.8)\n",
    "traindata = alldata[:part]\n",
    "valdata = alldata[part:]    \n",
    "f = open(\"/Users/jedi/courses/im2im2im/nvidia_original/datasets/celeba/lists/anant_im2im2im_train_2list.txt\", \"w\")\n",
    "for i in traindata:\n",
    "    print>>f, i[0]+\",\"+str(i[1])\n",
    "f.close()    \n",
    "f = open(\"/Users/jedi/courses/im2im2im/nvidia_original/datasets/celeba/lists/anant_im2im2im_val_2list.txt\", \"w\")\n",
    "for i in valdata:\n",
    "    print>>f, i[0]+\",\"+str(i[1])\n",
    "f.close()    "
   ]
  },
  {
   "cell_type": "code",
   "execution_count": 15,
   "metadata": {
    "collapsed": true
   },
   "outputs": [],
   "source": [
    "\n",
    "alldata = [[i[0], 0] for i in blond.values]+[[i[0], 1] for i in black.values]+[[i[0], 2] for i in gray.values]+[[i[0], 3] for i in bald.values]\n",
    "random.shuffle(alldata)\n",
    "part = int(len(alldata)*0.8)\n",
    "traindata = alldata[:part]\n",
    "valdata = alldata[part:]    \n",
    "f = open(\"/Users/jedi/courses/im2im2im/nvidia_original/datasets/celeba/lists/anant_hairs_train.txt\", \"w\")\n",
    "for i in traindata:\n",
    "    print>>f, i[0]+\",\"+str(i[1])\n",
    "f.close()    \n",
    "f = open(\"a/Users/jedi/courses/im2im2im/nvidia_original/datasets/celeba/lists/anant_hairs_val.txt\", \"w\")\n",
    "for i in valdata:\n",
    "    print>>f, i[0]+\",\"+str(i[1])\n",
    "f.close()    "
   ]
  },
  {
   "cell_type": "code",
   "execution_count": 8,
   "metadata": {},
   "outputs": [
    {
     "name": "stdout",
     "output_type": "stream",
     "text": [
      "Data written to /Users/jedi/courses/im2im2im/nvidia_original/datasets/celeba/lists/anant_blond_no_smiling.txt\n",
      "Data written to /Users/jedi/courses/im2im2im/nvidia_original/datasets/celeba/lists/anant_bruntte_no_smiling.txt\n",
      "Data written to /Users/jedi/courses/im2im2im/nvidia_original/datasets/celeba/lists/anant_smiling_no_blondbrunette.txt\n",
      "Data written to /Users/jedi/courses/im2im2im/nvidia_original/datasets/celeba/lists/anant_no_smiling_no_blondbrunette.txt\n"
     ]
    }
   ],
   "source": [
    "path = \"/Users/jedi/courses/im2im2im/nvidia_original/datasets/celeba/lists\"\n",
    "# writefile(path, 'anant_male.txt', male, 1000000, 6)\n",
    "# writefile(path, 'anant_female.txt', female, 10000, 7)\n",
    "\n",
    "writefile(path, 'anant_blond_no_smiling.txt', class0, 1000000, 0)\n",
    "writefile(path, 'anant_bruntte_no_smiling.txt', class1, 1000000, 1)\n",
    "writefile(path, 'anant_smiling_no_blondbrunette.txt', class2, 1000000, 2)\n",
    "writefile(path, 'anant_no_smiling_no_blondbrunette.txt', class3, 1000000, 3)"
   ]
  },
  {
   "cell_type": "code",
   "execution_count": 10,
   "metadata": {},
   "outputs": [
    {
     "name": "stdout",
     "output_type": "stream",
     "text": [
      "Data written to /Users/jedi/courses/im2im2im/nvidia_original/datasets/celeba/lists/anant_Smiling_train.txt\n",
      "Data written to /Users/jedi/courses/im2im2im/nvidia_original/datasets/celeba/lists/anant_Smiling_val.txt\n",
      "Data written to /Users/jedi/courses/im2im2im/nvidia_original/datasets/celeba/lists/anant_Eyeglasses_train.txt\n",
      "Data written to /Users/jedi/courses/im2im2im/nvidia_original/datasets/celeba/lists/anant_Eyeglasses_val.txt\n",
      "Data written to /Users/jedi/courses/im2im2im/nvidia_original/datasets/celeba/lists/anant_Blond_Hair_train.txt\n",
      "Data written to /Users/jedi/courses/im2im2im/nvidia_original/datasets/celeba/lists/anant_Blond_Hair_val.txt\n",
      "Data written to /Users/jedi/courses/im2im2im/nvidia_original/datasets/celeba/lists/anant_Black_Hair_train.txt\n",
      "Data written to /Users/jedi/courses/im2im2im/nvidia_original/datasets/celeba/lists/anant_Black_Hair_val.txt\n"
     ]
    }
   ],
   "source": [
    "from sklearn.utils import shuffle\n",
    "path = \"/Users/jedi/courses/im2im2im/nvidia_original/datasets/celeba/lists\"\n",
    "for i, _at in enumerate(attrs):\n",
    "    shuffle(distributions[_at])\n",
    "    part = int(len(distributions[_at])*0.8)\n",
    "    traindata = distributions[_at][:part]\n",
    "    valdata = distributions[_at][part:]    \n",
    "    writefile(path, \"anant_%s_train.txt\"%_at, traindata, 1000000, i)\n",
    "    writefile(path, \"anant_%s_val.txt\"%_at, valdata, 1000000, i)    "
   ]
  },
  {
   "cell_type": "code",
   "execution_count": 6,
   "metadata": {
    "collapsed": true
   },
   "outputs": [],
   "source": [
    "def writefile(path, filename, df, num_egs, label=0):\n",
    "    with open(os.path.join(path, filename), 'w') as f:\n",
    "        for i, (idx, row) in enumerate(df.iterrows()):\n",
    "            line = str(row['Images']) + \" %d\\n\"%label\n",
    "            f.write(line)\n",
    "            if i >= num_egs:\n",
    "                break\n",
    "    print(\"Data written to {}/{}\".format(path, filename))"
   ]
  },
  {
   "cell_type": "code",
   "execution_count": 7,
   "metadata": {
    "collapsed": true
   },
   "outputs": [],
   "source": [
    "# Write out lists of first 9200 examples\n",
    "path = '/Users/lauragraesser/Documents/NYU_Courses/CV/im2im2im/nvidia_original/datasets/celeba/lists'\n",
    "# filename = 'blond_no_eye.txt'\n",
    "# writefile(path, filename, blond_no_eye, 9200)\n",
    "# filename = 'brunette_no_eye.txt'\n",
    "# writefile(path, filename, brunette_no_eye, 9200)\n",
    "# filename = 'eye_noblond_no_brunette.txt'\n",
    "# writefile(path, filename, eye_noblond_no_brunette, 9200)\n",
    "# filename = 'noeye_noblond_no_brunette.txt'\n",
    "# writefile(path, filename, noeye_noblond_no_brunette, 9200)"
   ]
  },
  {
   "cell_type": "code",
   "execution_count": 18,
   "metadata": {
    "collapsed": true
   },
   "outputs": [],
   "source": [
    "# smiling_noblond_no_brunette = combined_data[(combined_data['Smiling']== 1) & \n",
    "#                              (combined_data['Blond_Hair']== -1) & \n",
    "#                              (combined_data['Brown_Hair']== -1) & \n",
    "#                              (combined_data['dataset'] == 0)]\n",
    "# nosmiling_noblond_no_brunette = combined_data[(combined_data['Smiling']== -1) & \n",
    "#                              (combined_data['Blond_Hair']== -1) & \n",
    "#                              (combined_data['Brown_Hair']== -1) & \n",
    "#                              (combined_data['dataset'] == 0)]\n",
    "male = combined_data[(combined_data['Male']== 1) &  \n",
    "                             (combined_data['dataset'] == 0)]\n",
    "female = combined_data[(combined_data['Male']== -1) &  \n",
    "                             (combined_data['dataset'] == 0)]"
   ]
  },
  {
   "cell_type": "code",
   "execution_count": 20,
   "metadata": {},
   "outputs": [
    {
     "name": "stdout",
     "output_type": "stream",
     "text": [
      "68261\n",
      "94509\n"
     ]
    }
   ],
   "source": [
    "# print(len(smiling_noblond_no_brunette.index))\n",
    "# print(len(nosmiling_noblond_no_brunette.index))\n",
    "print(len(male.index))\n",
    "print(len(female.index))"
   ]
  },
  {
   "cell_type": "code",
   "execution_count": 12,
   "metadata": {},
   "outputs": [
    {
     "name": "stdout",
     "output_type": "stream",
     "text": [
      "Data written to /Users/lauragraesser/Documents/NYU_Courses/CV/im2im2im/nvidia_original/datasets/celeba/lists/blond_no_eye_20k.txt\n",
      "Data written to /Users/lauragraesser/Documents/NYU_Courses/CV/im2im2im/nvidia_original/datasets/celeba/lists/brunette_no_eye_20k.txt\n"
     ]
    }
   ],
   "source": [
    "filename = 'blond_no_eye_20k.txt'\n",
    "writefile(path, filename, blond_no_eye, 20000)\n",
    "filename = 'brunette_no_eye_20k.txt'\n",
    "writefile(path, filename, brunette_no_eye, 20000)"
   ]
  },
  {
   "cell_type": "code",
   "execution_count": 13,
   "metadata": {},
   "outputs": [
    {
     "name": "stdout",
     "output_type": "stream",
     "text": [
      "Data written to /Users/lauragraesser/Documents/NYU_Courses/CV/im2im2im/nvidia_original/datasets/celeba/lists/smiling_noblond_no_brunette_20k.txt\n",
      "Data written to /Users/lauragraesser/Documents/NYU_Courses/CV/im2im2im/nvidia_original/datasets/celeba/lists/nosmiling_noblond_no_brunette_20k.txt\n"
     ]
    }
   ],
   "source": [
    "filename = 'smiling_noblond_no_brunette_20k.txt'\n",
    "writefile(path, filename, smiling_noblond_no_brunette, 20000)\n",
    "filename = 'nosmiling_noblond_no_brunette_20k.txt'\n",
    "writefile(path, filename, nosmiling_noblond_no_brunette, 20000)"
   ]
  },
  {
   "cell_type": "code",
   "execution_count": 14,
   "metadata": {},
   "outputs": [
    {
     "name": "stdout",
     "output_type": "stream",
     "text": [
      "Data written to /Users/lauragraesser/Documents/NYU_Courses/CV/im2im2im/nvidia_original/datasets/celeba/lists/male_20k.txt\n",
      "Data written to /Users/lauragraesser/Documents/NYU_Courses/CV/im2im2im/nvidia_original/datasets/celeba/lists/female_20k.txt\n"
     ]
    }
   ],
   "source": [
    "filename = 'male_20k.txt'\n",
    "writefile(path, filename, male, 20000)\n",
    "filename = 'female_20k.txt'\n",
    "writefile(path, filename, female, 20000)"
   ]
  },
  {
   "cell_type": "code",
   "execution_count": 8,
   "metadata": {
    "collapsed": true
   },
   "outputs": [],
   "source": [
    "hat = combined_data[(combined_data['Wearing_Hat']== 1) &  \n",
    "                             (combined_data['dataset'] == 0)]\n",
    "nohat = combined_data[(combined_data['Wearing_Hat']== -1) &  \n",
    "                             (combined_data['dataset'] == 0)]\n",
    "necktie = combined_data[(combined_data['Wearing_Necktie']== 1) &  \n",
    "                             (combined_data['dataset'] == 0)]\n",
    "nonecktie = combined_data[(combined_data['Wearing_Necktie']== -1) &  \n",
    "                             (combined_data['dataset'] == 0)]"
   ]
  },
  {
   "cell_type": "code",
   "execution_count": 9,
   "metadata": {},
   "outputs": [
    {
     "name": "stdout",
     "output_type": "stream",
     "text": [
      "8039\n",
      "154731\n",
      "11890\n",
      "150880\n"
     ]
    }
   ],
   "source": [
    "print(len(hat.index))\n",
    "print(len(nohat.index))\n",
    "print(len(necktie.index))\n",
    "print(len(nonecktie.index))"
   ]
  },
  {
   "cell_type": "code",
   "execution_count": 10,
   "metadata": {},
   "outputs": [
    {
     "name": "stdout",
     "output_type": "stream",
     "text": [
      "Data written to /Users/lauragraesser/Documents/NYU_Courses/CV/im2im2im/nvidia_original/datasets/celeba/lists/hat_8k.txt\n",
      "Data written to /Users/lauragraesser/Documents/NYU_Courses/CV/im2im2im/nvidia_original/datasets/celeba/lists/nohat_8k.txt\n",
      "Data written to /Users/lauragraesser/Documents/NYU_Courses/CV/im2im2im/nvidia_original/datasets/celeba/lists/necktie_11k.txt\n",
      "Data written to /Users/lauragraesser/Documents/NYU_Courses/CV/im2im2im/nvidia_original/datasets/celeba/lists/nonecktie_11k.txt\n"
     ]
    }
   ],
   "source": [
    "filename = 'hat_8k.txt'\n",
    "writefile(path, filename, hat, 8000)\n",
    "filename = 'nohat_8k.txt'\n",
    "writefile(path, filename, nohat, 8000)\n",
    "filename = 'necktie_11k.txt'\n",
    "writefile(path, filename, necktie, 11000)\n",
    "filename = 'nonecktie_11k.txt'\n",
    "writefile(path, filename, nonecktie, 11000)"
   ]
  },
  {
   "cell_type": "code",
   "execution_count": 10,
   "metadata": {
    "collapsed": true
   },
   "outputs": [],
   "source": [
    "eyeglasses = combined_data[(combined_data['Eyeglasses']== 1) &  \n",
    "                             (combined_data['dataset'] == 0)]\n",
    "noeyeglasses = combined_data[(combined_data['Eyeglasses']== -1) &  \n",
    "                             (combined_data['dataset'] == 0)]"
   ]
  },
  {
   "cell_type": "code",
   "execution_count": 11,
   "metadata": {},
   "outputs": [
    {
     "name": "stdout",
     "output_type": "stream",
     "text": [
      "10521\n",
      "152249\n"
     ]
    }
   ],
   "source": [
    "print(len(eyeglasses.index))\n",
    "print(len(noeyeglasses.index))"
   ]
  },
  {
   "cell_type": "code",
   "execution_count": 12,
   "metadata": {},
   "outputs": [
    {
     "name": "stdout",
     "output_type": "stream",
     "text": [
      "Data written to /Users/lauragraesser/Documents/NYU_Courses/CV/im2im2im/nvidia_original/datasets/celeba/lists/eyeglasses_10k.txt\n",
      "Data written to /Users/lauragraesser/Documents/NYU_Courses/CV/im2im2im/nvidia_original/datasets/celeba/lists/noneyeglasses_10k.txt\n"
     ]
    }
   ],
   "source": [
    "filename = 'eyeglasses_10k.txt'\n",
    "writefile(path, filename, eyeglasses, 10000)\n",
    "filename = 'noneyeglasses_10k.txt'\n",
    "writefile(path, filename, noeyeglasses, 10000)"
   ]
  }
 ],
 "metadata": {
  "kernelspec": {
   "display_name": "Python 2",
   "language": "python",
   "name": "python2"
  },
  "language_info": {
   "codemirror_mode": {
    "name": "ipython",
    "version": 2
   },
   "file_extension": ".py",
   "mimetype": "text/x-python",
   "name": "python",
   "nbconvert_exporter": "python",
   "pygments_lexer": "ipython2",
   "version": "2.7.11"
  }
 },
 "nbformat": 4,
 "nbformat_minor": 2
}
