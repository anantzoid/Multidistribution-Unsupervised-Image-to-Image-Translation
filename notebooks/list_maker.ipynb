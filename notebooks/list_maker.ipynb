{
 "cells": [
  {
   "cell_type": "code",
   "execution_count": 1,
   "metadata": {
    "collapsed": true
   },
   "outputs": [],
   "source": [
    "import pandas as pd\n",
    "import pprint\n",
    "import os"
   ]
  },
  {
   "cell_type": "code",
   "execution_count": 2,
   "metadata": {
    "collapsed": true
   },
   "outputs": [],
   "source": [
    "annotations = pd.read_csv(\"/Users/jedi/courses/im2im2im/dataset/celeba/list_attr_celeba_copy.txt\", \n",
    "                          sep=('\\s+'),\n",
    "                          header=0) \n",
    "data_split = pd.read_csv(\"/Users/jedi/courses/im2im2im/dataset/celeba/list_eval_partition.txt\", \n",
    "                          sep=('\\s+'),\n",
    "                          header=None,\n",
    "                         names=['images', 'dataset']) "
   ]
  },
  {
   "cell_type": "code",
   "execution_count": 3,
   "metadata": {
    "collapsed": true
   },
   "outputs": [],
   "source": [
    "combined_data = pd.merge(annotations, data_split, left_index=True, right_index=True, how='outer')\n",
    "cols = combined_data.columns.get_values()"
   ]
  },
  {
   "cell_type": "code",
   "execution_count": 7,
   "metadata": {},
   "outputs": [
    {
     "name": "stdout",
     "output_type": "stream",
     "text": [
      "array(['Images', '5_o_Clock_Shadow', 'Arched_Eyebrows', 'Attractive',\n",
      "       'Bags_Under_Eyes', 'Bald', 'Bangs', 'Big_Lips', 'Big_Nose',\n",
      "       'Black_Hair', 'Blond_Hair', 'Blurry', 'Brown_Hair',\n",
      "       'Bushy_Eyebrows', 'Chubby', 'Double_Chin', 'Eyeglasses', 'Goatee',\n",
      "       'Gray_Hair', 'Heavy_Makeup', 'High_Cheekbones', 'Male',\n",
      "       'Mouth_Slightly_Open', 'Mustache', 'Narrow_Eyes', 'No_Beard',\n",
      "       'Oval_Face', 'Pale_Skin', 'Pointy_Nose', 'Receding_Hairline',\n",
      "       'Rosy_Cheeks', 'Sideburns', 'Smiling', 'Straight_Hair', 'Wavy_Hair',\n",
      "       'Wearing_Earrings', 'Wearing_Hat', 'Wearing_Lipstick',\n",
      "       'Wearing_Necklace', 'Wearing_Necktie', 'Young', 'images', 'dataset'], dtype=object)\n"
     ]
    }
   ],
   "source": [
    "pprint.pprint(cols)"
   ]
  },
  {
   "cell_type": "code",
   "execution_count": 5,
   "metadata": {},
   "outputs": [
    {
     "name": "stdout",
     "output_type": "stream",
     "text": [
      "Num datapoints for each characteristic\n",
      "Images: 0\n",
      "5_o_Clock_Shadow: 22516\n",
      "Arched_Eyebrows: 54090\n",
      "Attractive: 103833\n",
      "Bags_Under_Eyes: 41446\n",
      "Bald: 4547\n",
      "Bangs: 30709\n",
      "Big_Lips: 48785\n",
      "Big_Nose: 47516\n",
      "Black_Hair: 48472\n",
      "Blond_Hair: 29983\n",
      "Blurry: 10312\n",
      "Brown_Hair: 41572\n",
      "Bushy_Eyebrows: 28803\n",
      "Chubby: 11663\n",
      "Double_Chin: 9459\n",
      "Eyeglasses: 13193\n",
      "Goatee: 12716\n",
      "Gray_Hair: 8499\n",
      "Heavy_Makeup: 78390\n",
      "High_Cheekbones: 92189\n",
      "Male: 84434\n",
      "Mouth_Slightly_Open: 97942\n",
      "Mustache: 8417\n",
      "Narrow_Eyes: 23329\n",
      "No_Beard: 169158\n",
      "Oval_Face: 57567\n",
      "Pale_Skin: 8701\n",
      "Pointy_Nose: 56210\n",
      "Receding_Hairline: 16163\n",
      "Rosy_Cheeks: 13315\n",
      "Sideburns: 11449\n",
      "Smiling: 97669\n",
      "Straight_Hair: 42222\n",
      "Wavy_Hair: 64744\n",
      "Wearing_Earrings: 38276\n",
      "Wearing_Hat: 9818\n",
      "Wearing_Lipstick: 95715\n",
      "Wearing_Necklace: 24913\n",
      "Wearing_Necktie: 14732\n",
      "Young: 156734\n",
      "images: 0\n",
      "dataset: 19867\n"
     ]
    }
   ],
   "source": [
    "# Datastats\n",
    "print(\"Num datapoints for each characteristic\")\n",
    "for col in cols:\n",
    "    num = len(combined_data[(combined_data[col]== 1)].index)\n",
    "    print(\"{}: {}\".format(col, num))"
   ]
  },
  {
   "cell_type": "code",
   "execution_count": 10,
   "metadata": {
    "collapsed": true
   },
   "outputs": [],
   "source": [
    "# Make lists\n",
    "blond_no_eye = combined_data[(combined_data['Eyeglasses']== -1) & \n",
    "                             (combined_data['Blond_Hair']== 1) & \n",
    "                             (combined_data['dataset'] == 0)]\n",
    "brunette_no_eye = combined_data[(combined_data['Eyeglasses']== -1) & \n",
    "                             (combined_data['Brown_Hair']== 1) & \n",
    "                             (combined_data['dataset'] == 0)]\n",
    "eye_noblond_no_brunette = combined_data[(combined_data['Eyeglasses']== 1) & \n",
    "                             (combined_data['Blond_Hair']== -1) & \n",
    "                             (combined_data['Brown_Hair']== -1) & \n",
    "                             (combined_data['dataset'] == 0)]\n",
    "noeye_noblond_no_brunette = combined_data[(combined_data['Eyeglasses']== -1) & \n",
    "                             (combined_data['Blond_Hair']== -1) & \n",
    "                             (combined_data['Brown_Hair']== -1) & \n",
    "                             (combined_data['dataset'] == 0)]"
   ]
  },
  {
   "cell_type": "code",
   "execution_count": 11,
   "metadata": {},
   "outputs": [
    {
     "name": "stdout",
     "output_type": "stream",
     "text": [
      "23864\n",
      "32278\n",
      "9216\n",
      "97080\n"
     ]
    }
   ],
   "source": [
    "print(len(blond_no_eye.index))\n",
    "print(len(brunette_no_eye.index))\n",
    "print(len(eye_noblond_no_brunette.index))\n",
    "print(len(noeye_noblond_no_brunette.index))"
   ]
  },
  {
   "cell_type": "code",
   "execution_count": 4,
   "metadata": {},
   "outputs": [
    {
     "name": "stdout",
     "output_type": "stream",
     "text": [
      "('Smiling', 42074)\n",
      "('Eyeglasses', 4720)\n",
      "('Blond_Hair', 9811)\n",
      "('Black_Hair', 18921)\n"
     ]
    }
   ],
   "source": [
    "# Make exhaustive new features list\n",
    "distributions=dict()\n",
    "attrs = ['Smiling', 'Eyeglasses', 'Blond_Hair', 'Black_Hair']\n",
    "\n",
    "distributions[attrs[0]] = combined_data[(combined_data[attrs[1]]== -1) & (combined_data[attrs[2]]== -1) & (combined_data[attrs[3]]== -1) &  \n",
    "                         (combined_data[attrs[0]]== 1) & \n",
    "                         (combined_data['dataset'] == 0)]\n",
    "distributions[attrs[1]] = combined_data[(combined_data[attrs[0]]== -1) & (combined_data[attrs[2]]== -1) & (combined_data[attrs[3]]== -1) & \n",
    "                         (combined_data[attrs[1]]== 1) & \n",
    "                         (combined_data['dataset'] == 0)]\n",
    "\n",
    "distributions[attrs[2]] = combined_data[(combined_data[attrs[0]]== -1) & (combined_data[attrs[1]]== -1) & (combined_data[attrs[3]]== -1) & \n",
    "                         (combined_data[attrs[2]]== 1) & \n",
    "                         (combined_data['dataset'] == 0)]\n",
    "\n",
    "distributions[attrs[3]] = combined_data[(combined_data[attrs[0]]== -1) & (combined_data[attrs[1]]== -1) & (combined_data[attrs[2]]== -1) & \n",
    "                         (combined_data[attrs[3]]== 1) & \n",
    "                         (combined_data['dataset'] == 0)]\n",
    "\n",
    "for _at in attrs:\n",
    "    print(_at, len(distributions[_at]))"
   ]
  },
  {
   "cell_type": "code",
   "execution_count": 5,
   "metadata": {},
   "outputs": [
    {
     "data": {
      "text/html": [
       "<div>\n",
       "<table border=\"1\" class=\"dataframe\">\n",
       "  <thead>\n",
       "    <tr style=\"text-align: right;\">\n",
       "      <th></th>\n",
       "      <th>Images</th>\n",
       "      <th>5_o_Clock_Shadow</th>\n",
       "      <th>Arched_Eyebrows</th>\n",
       "      <th>Attractive</th>\n",
       "      <th>Bags_Under_Eyes</th>\n",
       "      <th>Bald</th>\n",
       "      <th>Bangs</th>\n",
       "      <th>Big_Lips</th>\n",
       "      <th>Big_Nose</th>\n",
       "      <th>Black_Hair</th>\n",
       "      <th>...</th>\n",
       "      <th>Straight_Hair</th>\n",
       "      <th>Wavy_Hair</th>\n",
       "      <th>Wearing_Earrings</th>\n",
       "      <th>Wearing_Hat</th>\n",
       "      <th>Wearing_Lipstick</th>\n",
       "      <th>Wearing_Necklace</th>\n",
       "      <th>Wearing_Necktie</th>\n",
       "      <th>Young</th>\n",
       "      <th>images</th>\n",
       "      <th>dataset</th>\n",
       "    </tr>\n",
       "  </thead>\n",
       "  <tbody>\n",
       "    <tr>\n",
       "      <th>0</th>\n",
       "      <td>000001.jpg</td>\n",
       "      <td>-1</td>\n",
       "      <td>1</td>\n",
       "      <td>1</td>\n",
       "      <td>-1</td>\n",
       "      <td>-1</td>\n",
       "      <td>-1</td>\n",
       "      <td>-1</td>\n",
       "      <td>-1</td>\n",
       "      <td>-1</td>\n",
       "      <td>...</td>\n",
       "      <td>1</td>\n",
       "      <td>-1</td>\n",
       "      <td>1</td>\n",
       "      <td>-1</td>\n",
       "      <td>1</td>\n",
       "      <td>-1</td>\n",
       "      <td>-1</td>\n",
       "      <td>1</td>\n",
       "      <td>000001.jpg</td>\n",
       "      <td>0</td>\n",
       "    </tr>\n",
       "    <tr>\n",
       "      <th>1</th>\n",
       "      <td>000002.jpg</td>\n",
       "      <td>-1</td>\n",
       "      <td>-1</td>\n",
       "      <td>-1</td>\n",
       "      <td>1</td>\n",
       "      <td>-1</td>\n",
       "      <td>-1</td>\n",
       "      <td>-1</td>\n",
       "      <td>1</td>\n",
       "      <td>-1</td>\n",
       "      <td>...</td>\n",
       "      <td>-1</td>\n",
       "      <td>-1</td>\n",
       "      <td>-1</td>\n",
       "      <td>-1</td>\n",
       "      <td>-1</td>\n",
       "      <td>-1</td>\n",
       "      <td>-1</td>\n",
       "      <td>1</td>\n",
       "      <td>000002.jpg</td>\n",
       "      <td>0</td>\n",
       "    </tr>\n",
       "    <tr>\n",
       "      <th>8</th>\n",
       "      <td>000009.jpg</td>\n",
       "      <td>-1</td>\n",
       "      <td>1</td>\n",
       "      <td>1</td>\n",
       "      <td>-1</td>\n",
       "      <td>-1</td>\n",
       "      <td>1</td>\n",
       "      <td>1</td>\n",
       "      <td>-1</td>\n",
       "      <td>-1</td>\n",
       "      <td>...</td>\n",
       "      <td>-1</td>\n",
       "      <td>-1</td>\n",
       "      <td>1</td>\n",
       "      <td>-1</td>\n",
       "      <td>1</td>\n",
       "      <td>-1</td>\n",
       "      <td>-1</td>\n",
       "      <td>1</td>\n",
       "      <td>000009.jpg</td>\n",
       "      <td>0</td>\n",
       "    </tr>\n",
       "    <tr>\n",
       "      <th>15</th>\n",
       "      <td>000016.jpg</td>\n",
       "      <td>1</td>\n",
       "      <td>-1</td>\n",
       "      <td>-1</td>\n",
       "      <td>1</td>\n",
       "      <td>-1</td>\n",
       "      <td>-1</td>\n",
       "      <td>-1</td>\n",
       "      <td>-1</td>\n",
       "      <td>-1</td>\n",
       "      <td>...</td>\n",
       "      <td>1</td>\n",
       "      <td>-1</td>\n",
       "      <td>-1</td>\n",
       "      <td>-1</td>\n",
       "      <td>-1</td>\n",
       "      <td>-1</td>\n",
       "      <td>-1</td>\n",
       "      <td>1</td>\n",
       "      <td>000016.jpg</td>\n",
       "      <td>0</td>\n",
       "    </tr>\n",
       "    <tr>\n",
       "      <th>20</th>\n",
       "      <td>000021.jpg</td>\n",
       "      <td>-1</td>\n",
       "      <td>-1</td>\n",
       "      <td>-1</td>\n",
       "      <td>-1</td>\n",
       "      <td>-1</td>\n",
       "      <td>-1</td>\n",
       "      <td>-1</td>\n",
       "      <td>1</td>\n",
       "      <td>-1</td>\n",
       "      <td>...</td>\n",
       "      <td>1</td>\n",
       "      <td>-1</td>\n",
       "      <td>-1</td>\n",
       "      <td>-1</td>\n",
       "      <td>-1</td>\n",
       "      <td>-1</td>\n",
       "      <td>1</td>\n",
       "      <td>-1</td>\n",
       "      <td>000021.jpg</td>\n",
       "      <td>0</td>\n",
       "    </tr>\n",
       "  </tbody>\n",
       "</table>\n",
       "<p>5 rows × 43 columns</p>\n",
       "</div>"
      ],
      "text/plain": [
       "        Images  5_o_Clock_Shadow  Arched_Eyebrows  Attractive  \\\n",
       "0   000001.jpg                -1                1           1   \n",
       "1   000002.jpg                -1               -1          -1   \n",
       "8   000009.jpg                -1                1           1   \n",
       "15  000016.jpg                 1               -1          -1   \n",
       "20  000021.jpg                -1               -1          -1   \n",
       "\n",
       "    Bags_Under_Eyes  Bald  Bangs  Big_Lips  Big_Nose  Black_Hair   ...     \\\n",
       "0                -1    -1     -1        -1        -1          -1   ...      \n",
       "1                 1    -1     -1        -1         1          -1   ...      \n",
       "8                -1    -1      1         1        -1          -1   ...      \n",
       "15                1    -1     -1        -1        -1          -1   ...      \n",
       "20               -1    -1     -1        -1         1          -1   ...      \n",
       "\n",
       "    Straight_Hair  Wavy_Hair  Wearing_Earrings  Wearing_Hat  Wearing_Lipstick  \\\n",
       "0               1         -1                 1           -1                 1   \n",
       "1              -1         -1                -1           -1                -1   \n",
       "8              -1         -1                 1           -1                 1   \n",
       "15              1         -1                -1           -1                -1   \n",
       "20              1         -1                -1           -1                -1   \n",
       "\n",
       "    Wearing_Necklace  Wearing_Necktie  Young      images  dataset  \n",
       "0                 -1               -1      1  000001.jpg        0  \n",
       "1                 -1               -1      1  000002.jpg        0  \n",
       "8                 -1               -1      1  000009.jpg        0  \n",
       "15                -1               -1      1  000016.jpg        0  \n",
       "20                -1                1     -1  000021.jpg        0  \n",
       "\n",
       "[5 rows x 43 columns]"
      ]
     },
     "execution_count": 5,
     "metadata": {},
     "output_type": "execute_result"
    }
   ],
   "source": [
    "distributions['Smiling'][:5]"
   ]
  },
  {
   "cell_type": "code",
   "execution_count": 10,
   "metadata": {},
   "outputs": [
    {
     "name": "stdout",
     "output_type": "stream",
     "text": [
      "Data written to /Users/jedi/courses/im2im2im/nvidia_original/datasets/celeba/lists/anant_Smiling_train.txt\n",
      "Data written to /Users/jedi/courses/im2im2im/nvidia_original/datasets/celeba/lists/anant_Smiling_val.txt\n",
      "Data written to /Users/jedi/courses/im2im2im/nvidia_original/datasets/celeba/lists/anant_Eyeglasses_train.txt\n",
      "Data written to /Users/jedi/courses/im2im2im/nvidia_original/datasets/celeba/lists/anant_Eyeglasses_val.txt\n",
      "Data written to /Users/jedi/courses/im2im2im/nvidia_original/datasets/celeba/lists/anant_Blond_Hair_train.txt\n",
      "Data written to /Users/jedi/courses/im2im2im/nvidia_original/datasets/celeba/lists/anant_Blond_Hair_val.txt\n",
      "Data written to /Users/jedi/courses/im2im2im/nvidia_original/datasets/celeba/lists/anant_Black_Hair_train.txt\n",
      "Data written to /Users/jedi/courses/im2im2im/nvidia_original/datasets/celeba/lists/anant_Black_Hair_val.txt\n"
     ]
    }
   ],
   "source": [
    "from sklearn.utils import shuffle\n",
    "path = \"/Users/jedi/courses/im2im2im/nvidia_original/datasets/celeba/lists\"\n",
    "for i, _at in enumerate(attrs):\n",
    "    shuffle(distributions[_at])\n",
    "    part = int(len(distributions[_at])*0.8)\n",
    "    traindata = distributions[_at][:part]\n",
    "    valdata = distributions[_at][part:]    \n",
    "    writefile(path, \"anant_%s_train.txt\"%_at, traindata, 1000000, i)\n",
    "    writefile(path, \"anant_%s_val.txt\"%_at, valdata, 1000000, i)    "
   ]
  },
  {
   "cell_type": "code",
   "execution_count": 6,
   "metadata": {
    "collapsed": true
   },
   "outputs": [],
   "source": [
    "def writefile(path, filename, df, num_egs, label=0):\n",
    "    with open(os.path.join(path, filename), 'w') as f:\n",
    "        for i, (idx, row) in enumerate(df.iterrows()):\n",
    "            line = str(row['Images']) + \" %d\\n\"%label\n",
    "            f.write(line)\n",
    "            if i >= num_egs:\n",
    "                break\n",
    "    print(\"Data written to {}/{}\".format(path, filename))"
   ]
  },
  {
   "cell_type": "code",
   "execution_count": 7,
   "metadata": {
    "collapsed": true
   },
   "outputs": [],
   "source": [
    "# Write out lists of first 9200 examples\n",
    "path = '/Users/lauragraesser/Documents/NYU_Courses/CV/im2im2im/nvidia_original/datasets/celeba/lists'\n",
    "# filename = 'blond_no_eye.txt'\n",
    "# writefile(path, filename, blond_no_eye, 9200)\n",
    "# filename = 'brunette_no_eye.txt'\n",
    "# writefile(path, filename, brunette_no_eye, 9200)\n",
    "# filename = 'eye_noblond_no_brunette.txt'\n",
    "# writefile(path, filename, eye_noblond_no_brunette, 9200)\n",
    "# filename = 'noeye_noblond_no_brunette.txt'\n",
    "# writefile(path, filename, noeye_noblond_no_brunette, 9200)"
   ]
  },
  {
   "cell_type": "code",
   "execution_count": 8,
   "metadata": {
    "collapsed": true
   },
   "outputs": [],
   "source": [
    "smiling_noblond_no_brunette = combined_data[(combined_data['Smiling']== 1) & \n",
    "                             (combined_data['Blond_Hair']== -1) & \n",
    "                             (combined_data['Brown_Hair']== -1) & \n",
    "                             (combined_data['dataset'] == 0)]\n",
    "nosmiling_noblond_no_brunette = combined_data[(combined_data['Smiling']== -1) & \n",
    "                             (combined_data['Blond_Hair']== -1) & \n",
    "                             (combined_data['Brown_Hair']== -1) & \n",
    "                             (combined_data['dataset'] == 0)]\n",
    "male = combined_data[(combined_data['Male']== 1) &  \n",
    "                             (combined_data['dataset'] == 0)]\n",
    "female = combined_data[(combined_data['Male']== -1) &  \n",
    "                             (combined_data['dataset'] == 0)]"
   ]
  },
  {
   "cell_type": "code",
   "execution_count": 9,
   "metadata": {},
   "outputs": [
    {
     "name": "stdout",
     "output_type": "stream",
     "text": [
      "47793\n",
      "58503\n",
      "68261\n",
      "94509\n"
     ]
    }
   ],
   "source": [
    "print(len(smiling_noblond_no_brunette.index))\n",
    "print(len(nosmiling_noblond_no_brunette.index))\n",
    "print(len(male.index))\n",
    "print(len(female.index))"
   ]
  },
  {
   "cell_type": "code",
   "execution_count": 12,
   "metadata": {},
   "outputs": [
    {
     "name": "stdout",
     "output_type": "stream",
     "text": [
      "Data written to /Users/lauragraesser/Documents/NYU_Courses/CV/im2im2im/nvidia_original/datasets/celeba/lists/blond_no_eye_20k.txt\n",
      "Data written to /Users/lauragraesser/Documents/NYU_Courses/CV/im2im2im/nvidia_original/datasets/celeba/lists/brunette_no_eye_20k.txt\n"
     ]
    }
   ],
   "source": [
    "filename = 'blond_no_eye_20k.txt'\n",
    "writefile(path, filename, blond_no_eye, 20000)\n",
    "filename = 'brunette_no_eye_20k.txt'\n",
    "writefile(path, filename, brunette_no_eye, 20000)"
   ]
  },
  {
   "cell_type": "code",
   "execution_count": 13,
   "metadata": {},
   "outputs": [
    {
     "name": "stdout",
     "output_type": "stream",
     "text": [
      "Data written to /Users/lauragraesser/Documents/NYU_Courses/CV/im2im2im/nvidia_original/datasets/celeba/lists/smiling_noblond_no_brunette_20k.txt\n",
      "Data written to /Users/lauragraesser/Documents/NYU_Courses/CV/im2im2im/nvidia_original/datasets/celeba/lists/nosmiling_noblond_no_brunette_20k.txt\n"
     ]
    }
   ],
   "source": [
    "filename = 'smiling_noblond_no_brunette_20k.txt'\n",
    "writefile(path, filename, smiling_noblond_no_brunette, 20000)\n",
    "filename = 'nosmiling_noblond_no_brunette_20k.txt'\n",
    "writefile(path, filename, nosmiling_noblond_no_brunette, 20000)"
   ]
  },
  {
   "cell_type": "code",
   "execution_count": 14,
   "metadata": {},
   "outputs": [
    {
     "name": "stdout",
     "output_type": "stream",
     "text": [
      "Data written to /Users/lauragraesser/Documents/NYU_Courses/CV/im2im2im/nvidia_original/datasets/celeba/lists/male_20k.txt\n",
      "Data written to /Users/lauragraesser/Documents/NYU_Courses/CV/im2im2im/nvidia_original/datasets/celeba/lists/female_20k.txt\n"
     ]
    }
   ],
   "source": [
    "filename = 'male_20k.txt'\n",
    "writefile(path, filename, male, 20000)\n",
    "filename = 'female_20k.txt'\n",
    "writefile(path, filename, female, 20000)"
   ]
  },
  {
   "cell_type": "code",
   "execution_count": 8,
   "metadata": {
    "collapsed": true
   },
   "outputs": [],
   "source": [
    "hat = combined_data[(combined_data['Wearing_Hat']== 1) &  \n",
    "                             (combined_data['dataset'] == 0)]\n",
    "nohat = combined_data[(combined_data['Wearing_Hat']== -1) &  \n",
    "                             (combined_data['dataset'] == 0)]\n",
    "necktie = combined_data[(combined_data['Wearing_Necktie']== 1) &  \n",
    "                             (combined_data['dataset'] == 0)]\n",
    "nonecktie = combined_data[(combined_data['Wearing_Necktie']== -1) &  \n",
    "                             (combined_data['dataset'] == 0)]"
   ]
  },
  {
   "cell_type": "code",
   "execution_count": 9,
   "metadata": {},
   "outputs": [
    {
     "name": "stdout",
     "output_type": "stream",
     "text": [
      "8039\n",
      "154731\n",
      "11890\n",
      "150880\n"
     ]
    }
   ],
   "source": [
    "print(len(hat.index))\n",
    "print(len(nohat.index))\n",
    "print(len(necktie.index))\n",
    "print(len(nonecktie.index))"
   ]
  },
  {
   "cell_type": "code",
   "execution_count": 10,
   "metadata": {},
   "outputs": [
    {
     "name": "stdout",
     "output_type": "stream",
     "text": [
      "Data written to /Users/lauragraesser/Documents/NYU_Courses/CV/im2im2im/nvidia_original/datasets/celeba/lists/hat_8k.txt\n",
      "Data written to /Users/lauragraesser/Documents/NYU_Courses/CV/im2im2im/nvidia_original/datasets/celeba/lists/nohat_8k.txt\n",
      "Data written to /Users/lauragraesser/Documents/NYU_Courses/CV/im2im2im/nvidia_original/datasets/celeba/lists/necktie_11k.txt\n",
      "Data written to /Users/lauragraesser/Documents/NYU_Courses/CV/im2im2im/nvidia_original/datasets/celeba/lists/nonecktie_11k.txt\n"
     ]
    }
   ],
   "source": [
    "filename = 'hat_8k.txt'\n",
    "writefile(path, filename, hat, 8000)\n",
    "filename = 'nohat_8k.txt'\n",
    "writefile(path, filename, nohat, 8000)\n",
    "filename = 'necktie_11k.txt'\n",
    "writefile(path, filename, necktie, 11000)\n",
    "filename = 'nonecktie_11k.txt'\n",
    "writefile(path, filename, nonecktie, 11000)"
   ]
  },
  {
   "cell_type": "code",
   "execution_count": 10,
   "metadata": {
    "collapsed": true
   },
   "outputs": [],
   "source": [
    "eyeglasses = combined_data[(combined_data['Eyeglasses']== 1) &  \n",
    "                             (combined_data['dataset'] == 0)]\n",
    "noeyeglasses = combined_data[(combined_data['Eyeglasses']== -1) &  \n",
    "                             (combined_data['dataset'] == 0)]"
   ]
  },
  {
   "cell_type": "code",
   "execution_count": 11,
   "metadata": {},
   "outputs": [
    {
     "name": "stdout",
     "output_type": "stream",
     "text": [
      "10521\n",
      "152249\n"
     ]
    }
   ],
   "source": [
    "print(len(eyeglasses.index))\n",
    "print(len(noeyeglasses.index))"
   ]
  },
  {
   "cell_type": "code",
   "execution_count": 12,
   "metadata": {},
   "outputs": [
    {
     "name": "stdout",
     "output_type": "stream",
     "text": [
      "Data written to /Users/lauragraesser/Documents/NYU_Courses/CV/im2im2im/nvidia_original/datasets/celeba/lists/eyeglasses_10k.txt\n",
      "Data written to /Users/lauragraesser/Documents/NYU_Courses/CV/im2im2im/nvidia_original/datasets/celeba/lists/noneyeglasses_10k.txt\n"
     ]
    }
   ],
   "source": [
    "filename = 'eyeglasses_10k.txt'\n",
    "writefile(path, filename, eyeglasses, 10000)\n",
    "filename = 'noneyeglasses_10k.txt'\n",
    "writefile(path, filename, noeyeglasses, 10000)"
   ]
  }
 ],
 "metadata": {
  "kernelspec": {
   "display_name": "Python 2",
   "language": "python",
   "name": "python2"
  },
  "language_info": {
   "codemirror_mode": {
    "name": "ipython",
    "version": 2
   },
   "file_extension": ".py",
   "mimetype": "text/x-python",
   "name": "python",
   "nbconvert_exporter": "python",
   "pygments_lexer": "ipython2",
   "version": "2.7.11"
  }
 },
 "nbformat": 4,
 "nbformat_minor": 2
}
